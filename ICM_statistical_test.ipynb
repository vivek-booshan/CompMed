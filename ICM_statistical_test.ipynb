{
 "cells": [
  {
   "cell_type": "code",
   "execution_count": 41,
   "id": "peaceful-sweden",
   "metadata": {},
   "outputs": [
    {
     "name": "stdout",
     "output_type": "stream",
     "text": [
      "    Subject_ID Gender   Age Diagnosis  ACR_R  AGWM_R   AG_R  ALIC_R  Amyg_R  \\\n",
      "0  'Subject_1'    'F'  56.8  'NORMAL'  14270    3694  12859    2294    2310   \n",
      "1  'Subject_2'    'F'  53.2  'NORMAL'  12964    3275  12063    2367    1697   \n",
      "2  'Subject_3'    'F'  81.0  'NORMAL'   9742    3386  10980    1586    1400   \n",
      "3  'Subject_4'    'M'  69.6  'NORMAL'  10960    3709  12992    2301    2150   \n",
      "4  'Subject_5'    'M'  55.3  'NORMAL'  13137    2757  13342    2275    2166   \n",
      "\n",
      "   AnteriorBasalForebrain_R  ...  TempSul_L  Thalamus_L  dorsalWM_ACC_L  \\\n",
      "0                       338  ...       1175        6638            1523   \n",
      "1                       243  ...        858        5100            1419   \n",
      "2                       175  ...       1437        4546             795   \n",
      "3                       301  ...       1350        5400            1829   \n",
      "4                       278  ...       1713        5770            1421   \n",
      "\n",
      "   dorsal_ACC_L  rostralWM_ACC_L  rostral_ACC_L  subcallosalWM_ACC_L  \\\n",
      "0         13052                4           2403                  104   \n",
      "1         10957              108           2127                   18   \n",
      "2          9783               39           1829                    0   \n",
      "3         11468               34           1866                   71   \n",
      "4         11365               20           2184                   74   \n",
      "\n",
      "   subcallosal_ACC_L  subgenualWM_ACC_L  subgenual_ACC_L  \n",
      "0                475                225             1700  \n",
      "1                282                160             1410  \n",
      "2                262                 73             1482  \n",
      "3                338                164             1772  \n",
      "4                491                162             1887  \n",
      "\n",
      "[5 rows x 278 columns]\n"
     ]
    }
   ],
   "source": [
    "import pandas as pd\n",
    "from scipy import stats\n",
    "\n",
    "data = pd.read_excel('BIOCARD_ICM_random200.xlsx')\n",
    "data.columns = data.columns.str.strip(\"'\")\n",
    "\n",
    "\n",
    "print(data.head())"
   ]
  },
  {
   "cell_type": "code",
   "execution_count": 42,
   "id": "quick-numbers",
   "metadata": {},
   "outputs": [],
   "source": [
    "\n",
    "# control and disease/disorder groups\n",
    "control_group = data[data['Diagnosis'] == \"'NORMAL'\"]\n",
    "disease_group = data[data['Diagnosis'] == \"'AD/MCI'\"]\n",
    "\n",
    "# columns for the limbic system brain regions\n",
    "brain_region_columns = ['Amyg_R', 'Amyg_L', 'Fimbria_R', 'Fimbria_L', 'Hippo_R', 'Hippo_L', 'Mammillary_R', 'Mammillary_L']\n",
    "\n",
    "results = {}"
   ]
  },
  {
   "cell_type": "code",
   "execution_count": 43,
   "id": "sustained-yorkshire",
   "metadata": {},
   "outputs": [],
   "source": [
    "# Set your significance level (alpha)\n",
    "alpha = 0.05\n",
    "\n",
    "# Perform t-test for each brain region\n",
    "for column in brain_region_columns:\n",
    "    control_values = control_group[column].dropna()\n",
    "    disease_values = disease_group[column].dropna()\n",
    "    \n",
    "    # Check if both groups have enough data\n",
    "    if len(control_values) < 2 or len(disease_values) < 2:\n",
    "        print(f\"Not enough data for {column}\")\n",
    "    else:\n",
    "        t_statistic, p_value = stats.ttest_ind(control_values, disease_values)\n",
    "    \n",
    "        results[column] = {\n",
    "            't_statistic': t_statistic,\n",
    "            'p_value': p_value,\n",
    "        }"
   ]
  },
  {
   "cell_type": "code",
   "execution_count": 44,
   "id": "latest-sussex",
   "metadata": {
    "scrolled": true
   },
   "outputs": [
    {
     "name": "stdout",
     "output_type": "stream",
     "text": [
      "Brain Region: Amyg_R\n",
      "  t-statistic: 0.5380404845001473\n",
      "  p-value: 0.591153371178904\n",
      "  Null hypothesis not rejected: No significant difference.\n",
      "Brain Region: Amyg_L\n",
      "  t-statistic: 1.7635053385308637\n",
      "  p-value: 0.07935767887889372\n",
      "  Null hypothesis not rejected: No significant difference.\n",
      "Brain Region: Fimbria_R\n",
      "  t-statistic: 3.2764383126638683\n",
      "  p-value: 0.001241262260055997\n",
      "  Null hypothesis rejected: There is a significant difference.\n",
      "Brain Region: Fimbria_L\n",
      "  t-statistic: 1.380000034037533\n",
      "  p-value: 0.16914286194712758\n",
      "  Null hypothesis not rejected: No significant difference.\n",
      "Brain Region: Hippo_R\n",
      "  t-statistic: -1.0490133350400956\n",
      "  p-value: 0.29545072386155785\n",
      "  Null hypothesis not rejected: No significant difference.\n",
      "Brain Region: Hippo_L\n",
      "  t-statistic: -1.237492350721392\n",
      "  p-value: 0.21736986747035617\n",
      "  Null hypothesis not rejected: No significant difference.\n",
      "Brain Region: Mammillary_R\n",
      "  t-statistic: -1.1903519132937355\n",
      "  p-value: 0.23533332123207135\n",
      "  Null hypothesis not rejected: No significant difference.\n",
      "Brain Region: Mammillary_L\n",
      "  t-statistic: -0.4514500508408535\n",
      "  p-value: 0.652159298531321\n",
      "  Null hypothesis not rejected: No significant difference.\n"
     ]
    }
   ],
   "source": [
    "for column, result in results.items():\n",
    "    print(f\"Brain Region: {column}\")\n",
    "    print(f\"  t-statistic: {result['t_statistic']}\")\n",
    "    print(f\"  p-value: {result['p_value']}\")\n",
    "    \n",
    "    if result['p_value'] <= alpha:\n",
    "        print(\"  Null hypothesis rejected: There is a significant difference.\")\n",
    "    else:\n",
    "        print(\"  Null hypothesis not rejected: No significant difference.\")"
   ]
  },
  {
   "cell_type": "code",
   "execution_count": null,
   "id": "responsible-setup",
   "metadata": {},
   "outputs": [],
   "source": []
  }
 ],
 "metadata": {
  "kernelspec": {
   "display_name": "Python 3",
   "language": "python",
   "name": "python3"
  },
  "language_info": {
   "codemirror_mode": {
    "name": "ipython",
    "version": 3
   },
   "file_extension": ".py",
   "mimetype": "text/x-python",
   "name": "python",
   "nbconvert_exporter": "python",
   "pygments_lexer": "ipython3",
   "version": "3.9.1"
  }
 },
 "nbformat": 4,
 "nbformat_minor": 5
}
